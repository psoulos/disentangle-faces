{
 "cells": [
  {
   "cell_type": "code",
   "execution_count": 159,
   "metadata": {},
   "outputs": [],
   "source": [
    "import os\n",
    "import glob\n",
    "import numpy as np\n",
    "import scipy.io as sio\n",
    "from scipy.stats.stats import spearmanr, normaltest\n",
    "from sklearn import preprocessing\n",
    "import warnings\n",
    "warnings.filterwarnings('ignore')\n",
    "\n",
    "beta_dir = './beta'\n",
    "\n",
    "SUBJECTS = [1, 2, 3, 4]\n",
    "MODELS = ['dvae', 'vae']\n",
    "THRESHOLD = 4\n",
    "LATENT_DIMENSION = 24\n",
    "INEFFECTIVE_THRESHOLD = .5"
   ]
  },
  {
   "cell_type": "code",
   "execution_count": 160,
   "metadata": {},
   "outputs": [
    {
     "name": "stdout",
     "output_type": "stream",
     "text": [
      "Subject 1\n",
      "dvae overlap: 84253\n",
      "vae overlap: 89619\n",
      "Subject 2\n",
      "dvae overlap: 211185\n",
      "vae overlap: 233210\n",
      "Subject 3\n",
      "dvae overlap: 748002\n",
      "vae overlap: 730607\n",
      "Subject 4\n",
      "dvae overlap: 204446\n",
      "vae overlap: 220510\n"
     ]
    }
   ],
   "source": [
    "yj = preprocessing.PowerTransformer(method='yeo-johnson')\n",
    "\n",
    "for subject_num in SUBJECTS:\n",
    "    print('Subject {}'.format(subject_num))\n",
    "    for model_type in MODELS:\n",
    "        localizer_map = sio.loadmat('localizer-maps/sub-{:02d}_sig.mat'.format(subject_num))['data'][0]\n",
    "        above_threshold = localizer_map > THRESHOLD\n",
    "        n_voxels = np.sum(above_threshold)\n",
    "        #print('Number above threshold: {}'.format(n_voxels))\n",
    "        betas = sio.loadmat('betas/sub{:02d}_{}-beta.mat'.format(subject_num, model_type))\n",
    "        betas = np.array(betas['data'][above_threshold]).transpose()\n",
    "        latent_betas = betas[:LATENT_DIMENSION]\n",
    "        \n",
    "        # Normalize the latent betas to N(0, 1)\n",
    "        normalized_latent_betas = yj.fit_transform(latent_betas) #preprocessing.scale(latent_betas)\n",
    "        \n",
    "        # Remove the betas that are less than one std from the mean\n",
    "        ineffective_betas = np.abs(normalized_latent_betas) < INEFFECTIVE_THRESHOLD\n",
    "        normalized_latent_betas[ineffective_betas] = False\n",
    "        \n",
    "        # Sum the number of pairwise latent dimension overlaps\n",
    "        total_overlap = 0\n",
    "        for i in range(LATENT_DIMENSION):\n",
    "            for j in range(i+1, LATENT_DIMENSION):\n",
    "                overlap = np.sum(np.logical_and(normalized_latent_betas[i], normalized_latent_betas[j]))\n",
    "                total_overlap += overlap\n",
    "                #print('({},{}): {}'.format(i,j, overlap))\n",
    "                \n",
    "        print('{} overlap: {}'.format(model_type, total_overlap))\n",
    "            "
   ]
  },
  {
   "cell_type": "code",
   "execution_count": 157,
   "metadata": {},
   "outputs": [
    {
     "name": "stdout",
     "output_type": "stream",
     "text": [
      "4.6144863e-10\n",
      "1.0\n",
      "[-0.0199232  -0.01522118 -0.0105066  -0.0094768  -0.00486771 -0.00477402\n",
      " -0.02081244 -0.01842963 -0.01352152 -0.01390422 -0.01647327 -0.0161181\n",
      " -0.00900957 -0.01936265 -0.01800413 -0.01868273 -0.00458421 -0.02107806\n",
      " -0.02013998 -0.01950914]\n",
      "[-2.2367926  -2.195705   -1.652713   -1.8701108  -0.98084015 -1.0620736\n",
      " -2.270307   -2.320767   -1.3271359  -2.410403   -1.5052649  -1.4843676\n",
      " -2.0929558  -1.8635281  -1.6541994  -1.673396   -1.0034643  -2.094548\n",
      " -1.8782969  -1.7457006 ]\n"
     ]
    }
   ],
   "source": [
    "qt = preprocessing.QuantileTransformer(n_quantiles=50000, output_distribution='normal')\n",
    "bc = preprocessing.PowerTransformer(method='box-cox')\n",
    "yj = preprocessing.PowerTransformer(method='yeo-johnson')\n",
    "a = yj.fit_transform(latent_betas)\n",
    "print(np.mean(a))\n",
    "print(np.std(a))\n",
    "print(latent_betas[0][:20])\n",
    "print(a[0][:20])"
   ]
  },
  {
   "cell_type": "code",
   "execution_count": null,
   "metadata": {},
   "outputs": [],
   "source": []
  }
 ],
 "metadata": {
  "kernelspec": {
   "display_name": "disentanglement-lib",
   "language": "python",
   "name": "disentanglement-lib"
  },
  "language_info": {
   "codemirror_mode": {
    "name": "ipython",
    "version": 3
   },
   "file_extension": ".py",
   "mimetype": "text/x-python",
   "name": "python",
   "nbconvert_exporter": "python",
   "pygments_lexer": "ipython3",
   "version": "3.6.12"
  }
 },
 "nbformat": 4,
 "nbformat_minor": 4
}
